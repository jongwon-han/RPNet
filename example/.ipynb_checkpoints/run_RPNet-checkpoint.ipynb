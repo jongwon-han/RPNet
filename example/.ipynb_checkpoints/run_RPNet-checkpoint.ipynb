{
 "cells": [
  {
   "cell_type": "markdown",
   "id": "d62649b1-017c-4743-a39d-9e11c34ec52c",
   "metadata": {},
   "source": [
    "# **RPNet Tutorial**\n",
    "## 1. Installation\n",
    "The various dependencies required to run the **RPNet** can be easily installed using **pip**.<br>\n",
    "It is recommended to run the program in a separate virtual environment using Anaconda with python version 3.9.<br>\n",
    "\n",
    "**Note**: If you want to use a GPU, you must install **CUDA** libaray. The RPNet was developed using CUDA version 11.1.74.\n",
    "\n",
    "**In terminal:**<br>\n",
    "conda create -n rpnet python=3.9<br>\n",
    "conda activate rpnet<br>\n",
    "pip install rpnet<br>\n",
    "\n",
    "RPNet supports multiprocessing-based preprocessing using the **parmap** module.<br>\n",
    "\n",
    "\n",
    "Before using RPNet, download the pre-trained model from the link below and place it in the \"./model\" directory.<br>\n",
    "[click here for pre-trained models](https://drive.google.com/drive/folders/1VlhPiLEx6XKBkmLdkc9RJ6fFTcSD0-0B?usp=sharing)"
   ]
  },
  {
   "cell_type": "markdown",
   "id": "0b289e7c-e6f9-4a24-beeb-31b2e4f28928",
   "metadata": {},
   "source": [
    "---\n",
    "## 2. Example (polarity prediction)\n",
    "\n",
    "Before running the RPNet, <span style=\"color:red\"> you need to configure various variables and options in the `hyperparams.py` file.</span><br>\n",
    "For detailed explanations of each variable, please refer to the comments within the file.\n",
    "\n",
    "### 2.1 load modules"
   ]
  },
  {
   "cell_type": "code",
   "execution_count": 13,
   "id": "cb354897-cdd2-4135-ac30-0a5223d861e1",
   "metadata": {},
   "outputs": [],
   "source": [
    "\"\"\"\n",
    "# RPNet (v.0.0.1)\n",
    "https://github.com/jongwon-han/RPNet\n",
    "\n",
    "RPNet: Robust P-wave first-motion polarity determination using deep learning (Han et al., 2025; SRL)\n",
    "doi: https://doi.org/10.1785/0220240384\n",
    "\n",
    "Example script to run the sample Hi-net dataset\n",
    "\n",
    "- Jongwon Han (@KIGAM)\n",
    "- jwhan@kigam.re.kr\n",
    "- Last update: 2025. 2. 24.\n",
    "\"\"\"\n",
    "\n",
    "#########################################################################################################\n",
    "\n",
    "import h5py\n",
    "import pandas as pd\n",
    "import numpy as np\n",
    "import tensorflow as tf\n",
    "import parmap\n",
    "from keras_self_attention import SeqSelfAttention\n",
    "import matplotlib.pyplot as plt\n",
    "import tqdm\n",
    "import matplotlib.ticker as ticker\n",
    "from mpl_toolkits.axes_grid1 import make_axes_locatable\n",
    "import os\n",
    "import subprocess\n",
    "import shutil\n",
    "from obspy import Stream, Trace\n",
    "from obspy import UTCDateTime\n",
    "from sklearn.model_selection import train_test_split\n",
    "import plotly.figure_factory as ff\n",
    "import matplotlib\n",
    "import fnmatch\n",
    "import time\n",
    "from rpnet import *\n",
    "from hyperparams import *\n",
    "\n",
    "#########################################################################################################"
   ]
  },
  {
   "cell_type": "markdown",
   "id": "a1d1d2e8-219e-45ff-90ce-8d5e2ebf4eb2",
   "metadata": {},
   "source": [
    "---\n",
    "### 2.2 Preparation for the prediction"
   ]
  },
  {
   "cell_type": "code",
   "execution_count": 14,
   "id": "eb458438-11fd-449b-a67b-dbd0b81b9199",
   "metadata": {},
   "outputs": [],
   "source": [
    "# set gpu number\n",
    "os.environ['CUDA_VISIBLE_DEVICES'] = str(gpu_num)\n",
    "\n",
    "stime=time.time()\n",
    "\n",
    "# make output directory / if exist remove it\n",
    "if os.path.exists(out_dir):\n",
    "    shutil.rmtree(out_dir)\n",
    "os.makedirs(out_dir)\n",
    "\n",
    "# load raw data (catalog, phase, station files)\n",
    "cat_df=pd.read_csv(event_catalog)\n",
    "pha_df=pd.read_csv(phase_metadata)\n",
    "sta_df=pd.read_csv(sta_metadata).sort_values(['sta']).reset_index(drop=True)\n",
    "sta_df['sta0']=sta_df['sta'] # for reset station code of Hi-net dataset"
   ]
  },
  {
   "cell_type": "markdown",
   "id": "0b932fa4-f6fb-4af3-900a-0af03e5a1461",
   "metadata": {},
   "source": [
    "#### Earthquake catalog"
   ]
  },
  {
   "cell_type": "code",
   "execution_count": 15,
   "id": "55d6cc31-f945-4edd-ab6c-55e33c20df46",
   "metadata": {},
   "outputs": [
    {
     "data": {
      "text/html": [
       "<div>\n",
       "<style scoped>\n",
       "    .dataframe tbody tr th:only-of-type {\n",
       "        vertical-align: middle;\n",
       "    }\n",
       "\n",
       "    .dataframe tbody tr th {\n",
       "        vertical-align: top;\n",
       "    }\n",
       "\n",
       "    .dataframe thead th {\n",
       "        text-align: right;\n",
       "    }\n",
       "</style>\n",
       "<table border=\"1\" class=\"dataframe\">\n",
       "  <thead>\n",
       "    <tr style=\"text-align: right;\">\n",
       "      <th></th>\n",
       "      <th>event_id</th>\n",
       "      <th>data_id</th>\n",
       "      <th>jst</th>\n",
       "      <th>lat</th>\n",
       "      <th>lon</th>\n",
       "      <th>dep</th>\n",
       "      <th>mag</th>\n",
       "      <th>tmag</th>\n",
       "      <th>mag2</th>\n",
       "      <th>tmag2</th>\n",
       "      <th>strike</th>\n",
       "      <th>dip</th>\n",
       "      <th>slip</th>\n",
       "      <th>dist</th>\n",
       "    </tr>\n",
       "  </thead>\n",
       "  <tbody>\n",
       "    <tr>\n",
       "      <th>0</th>\n",
       "      <td>J2016042016013028</td>\n",
       "      <td>D20160420001172</td>\n",
       "      <td>2016-04-20T16:01:30.280000Z</td>\n",
       "      <td>32.837667</td>\n",
       "      <td>130.799333</td>\n",
       "      <td>15.23</td>\n",
       "      <td>4.0</td>\n",
       "      <td>D</td>\n",
       "      <td>4.1</td>\n",
       "      <td>W</td>\n",
       "      <td>267</td>\n",
       "      <td>35</td>\n",
       "      <td>-91</td>\n",
       "      <td>9.34</td>\n",
       "    </tr>\n",
       "    <tr>\n",
       "      <th>1</th>\n",
       "      <td>J2016041507465204</td>\n",
       "      <td>D20160415000600</td>\n",
       "      <td>2016-04-15T07:46:52.040000Z</td>\n",
       "      <td>32.730000</td>\n",
       "      <td>130.797000</td>\n",
       "      <td>10.52</td>\n",
       "      <td>4.4</td>\n",
       "      <td>D</td>\n",
       "      <td>4.4</td>\n",
       "      <td>V</td>\n",
       "      <td>20</td>\n",
       "      <td>69</td>\n",
       "      <td>172</td>\n",
       "      <td>8.54</td>\n",
       "    </tr>\n",
       "  </tbody>\n",
       "</table>\n",
       "</div>"
      ],
      "text/plain": [
       "            event_id          data_id                          jst        lat  \\\n",
       "0  J2016042016013028  D20160420001172  2016-04-20T16:01:30.280000Z  32.837667   \n",
       "1  J2016041507465204  D20160415000600  2016-04-15T07:46:52.040000Z  32.730000   \n",
       "\n",
       "          lon    dep  mag tmag  mag2 tmag2  strike  dip  slip  dist  \n",
       "0  130.799333  15.23  4.0    D   4.1     W     267   35   -91  9.34  \n",
       "1  130.797000  10.52  4.4    D   4.4     V      20   69   172  8.54  "
      ]
     },
     "execution_count": 15,
     "metadata": {},
     "output_type": "execute_result"
    }
   ],
   "source": [
    "cat_df"
   ]
  },
  {
   "cell_type": "markdown",
   "id": "9a13bd07-6dec-4316-836d-3a4681515ba4",
   "metadata": {},
   "source": [
    "#### Phase information"
   ]
  },
  {
   "cell_type": "code",
   "execution_count": 16,
   "id": "ea081631-a4ad-482e-a6ae-535c9ea897f7",
   "metadata": {
    "scrolled": true
   },
   "outputs": [
    {
     "data": {
      "text/html": [
       "<div>\n",
       "<style scoped>\n",
       "    .dataframe tbody tr th:only-of-type {\n",
       "        vertical-align: middle;\n",
       "    }\n",
       "\n",
       "    .dataframe tbody tr th {\n",
       "        vertical-align: top;\n",
       "    }\n",
       "\n",
       "    .dataframe thead th {\n",
       "        text-align: right;\n",
       "    }\n",
       "</style>\n",
       "<table border=\"1\" class=\"dataframe\">\n",
       "  <thead>\n",
       "    <tr style=\"text-align: right;\">\n",
       "      <th></th>\n",
       "      <th>event_id</th>\n",
       "      <th>data_id</th>\n",
       "      <th>sta</th>\n",
       "      <th>ptime</th>\n",
       "      <th>stime</th>\n",
       "      <th>pol</th>\n",
       "    </tr>\n",
       "  </thead>\n",
       "  <tbody>\n",
       "    <tr>\n",
       "      <th>0</th>\n",
       "      <td>J2016041507465204</td>\n",
       "      <td>D20160415000600</td>\n",
       "      <td>N.TYNH</td>\n",
       "      <td>2016-04-15T07:46:54.740000Z</td>\n",
       "      <td>2016-04-15T07:46:56.650000Z</td>\n",
       "      <td>U</td>\n",
       "    </tr>\n",
       "    <tr>\n",
       "      <th>1</th>\n",
       "      <td>J2016041507465204</td>\n",
       "      <td>D20160415000600</td>\n",
       "      <td>KU.KMP</td>\n",
       "      <td>2016-04-15T07:46:55.820000Z</td>\n",
       "      <td>2016-04-15T07:46:58.470000Z</td>\n",
       "      <td>U</td>\n",
       "    </tr>\n",
       "    <tr>\n",
       "      <th>2</th>\n",
       "      <td>J2016041507465204</td>\n",
       "      <td>D20160415000600</td>\n",
       "      <td>KUIZU3</td>\n",
       "      <td>2016-04-15T07:46:56.080000Z</td>\n",
       "      <td>2016-04-15T07:46:59.080000Z</td>\n",
       "      <td>U</td>\n",
       "    </tr>\n",
       "    <tr>\n",
       "      <th>3</th>\n",
       "      <td>J2016041507465204</td>\n",
       "      <td>D20160415000600</td>\n",
       "      <td>KUIZU3</td>\n",
       "      <td>2016-04-15T07:46:56.080000Z</td>\n",
       "      <td>NaN</td>\n",
       "      <td>K</td>\n",
       "    </tr>\n",
       "    <tr>\n",
       "      <th>4</th>\n",
       "      <td>J2016041507465204</td>\n",
       "      <td>D20160415000600</td>\n",
       "      <td>N.YABH</td>\n",
       "      <td>2016-04-15T07:46:56.410000Z</td>\n",
       "      <td>2016-04-15T07:46:59.620000Z</td>\n",
       "      <td>U</td>\n",
       "    </tr>\n",
       "    <tr>\n",
       "      <th>...</th>\n",
       "      <td>...</td>\n",
       "      <td>...</td>\n",
       "      <td>...</td>\n",
       "      <td>...</td>\n",
       "      <td>...</td>\n",
       "      <td>...</td>\n",
       "    </tr>\n",
       "    <tr>\n",
       "      <th>124</th>\n",
       "      <td>J2016042016013028</td>\n",
       "      <td>D20160420001172</td>\n",
       "      <td>G.SIBI</td>\n",
       "      <td>2016-04-20T16:01:48.060000Z</td>\n",
       "      <td>2016-04-20T16:02:01.300000Z</td>\n",
       "      <td>U</td>\n",
       "    </tr>\n",
       "    <tr>\n",
       "      <th>125</th>\n",
       "      <td>J2016042016013028</td>\n",
       "      <td>D20160420001172</td>\n",
       "      <td>TAKAZA</td>\n",
       "      <td>2016-04-20T16:01:48.690000Z</td>\n",
       "      <td>2016-04-20T16:02:01.250000Z</td>\n",
       "      <td>U</td>\n",
       "    </tr>\n",
       "    <tr>\n",
       "      <th>126</th>\n",
       "      <td>J2016042016013028</td>\n",
       "      <td>D20160420001172</td>\n",
       "      <td>TAKAZA</td>\n",
       "      <td>2016-04-20T16:01:48.690000Z</td>\n",
       "      <td>NaN</td>\n",
       "      <td>K</td>\n",
       "    </tr>\n",
       "    <tr>\n",
       "      <th>127</th>\n",
       "      <td>J2016042016013028</td>\n",
       "      <td>D20160420001172</td>\n",
       "      <td>IKI</td>\n",
       "      <td>2016-04-20T16:01:53.980000Z</td>\n",
       "      <td>NaN</td>\n",
       "      <td>K</td>\n",
       "    </tr>\n",
       "    <tr>\n",
       "      <th>128</th>\n",
       "      <td>J2016042016013028</td>\n",
       "      <td>D20160420001172</td>\n",
       "      <td>SUZUYA</td>\n",
       "      <td>2016-04-20T16:01:54.670000Z</td>\n",
       "      <td>NaN</td>\n",
       "      <td>K</td>\n",
       "    </tr>\n",
       "  </tbody>\n",
       "</table>\n",
       "<p>129 rows × 6 columns</p>\n",
       "</div>"
      ],
      "text/plain": [
       "              event_id          data_id     sta                        ptime  \\\n",
       "0    J2016041507465204  D20160415000600  N.TYNH  2016-04-15T07:46:54.740000Z   \n",
       "1    J2016041507465204  D20160415000600  KU.KMP  2016-04-15T07:46:55.820000Z   \n",
       "2    J2016041507465204  D20160415000600  KUIZU3  2016-04-15T07:46:56.080000Z   \n",
       "3    J2016041507465204  D20160415000600  KUIZU3  2016-04-15T07:46:56.080000Z   \n",
       "4    J2016041507465204  D20160415000600  N.YABH  2016-04-15T07:46:56.410000Z   \n",
       "..                 ...              ...     ...                          ...   \n",
       "124  J2016042016013028  D20160420001172  G.SIBI  2016-04-20T16:01:48.060000Z   \n",
       "125  J2016042016013028  D20160420001172  TAKAZA  2016-04-20T16:01:48.690000Z   \n",
       "126  J2016042016013028  D20160420001172  TAKAZA  2016-04-20T16:01:48.690000Z   \n",
       "127  J2016042016013028  D20160420001172     IKI  2016-04-20T16:01:53.980000Z   \n",
       "128  J2016042016013028  D20160420001172  SUZUYA  2016-04-20T16:01:54.670000Z   \n",
       "\n",
       "                           stime pol  \n",
       "0    2016-04-15T07:46:56.650000Z   U  \n",
       "1    2016-04-15T07:46:58.470000Z   U  \n",
       "2    2016-04-15T07:46:59.080000Z   U  \n",
       "3                            NaN   K  \n",
       "4    2016-04-15T07:46:59.620000Z   U  \n",
       "..                           ...  ..  \n",
       "124  2016-04-20T16:02:01.300000Z   U  \n",
       "125  2016-04-20T16:02:01.250000Z   U  \n",
       "126                          NaN   K  \n",
       "127                          NaN   K  \n",
       "128                          NaN   K  \n",
       "\n",
       "[129 rows x 6 columns]"
      ]
     },
     "execution_count": 16,
     "metadata": {},
     "output_type": "execute_result"
    }
   ],
   "source": [
    "pha_df"
   ]
  },
  {
   "cell_type": "markdown",
   "id": "ea584892-3b19-474d-b094-30561e3a63fa",
   "metadata": {},
   "source": [
    "#### Station locations"
   ]
  },
  {
   "cell_type": "code",
   "execution_count": 17,
   "id": "80574131-54dc-4fa4-831a-92f603cf835c",
   "metadata": {
    "scrolled": true
   },
   "outputs": [
    {
     "data": {
      "text/html": [
       "<div>\n",
       "<style scoped>\n",
       "    .dataframe tbody tr th:only-of-type {\n",
       "        vertical-align: middle;\n",
       "    }\n",
       "\n",
       "    .dataframe tbody tr th {\n",
       "        vertical-align: top;\n",
       "    }\n",
       "\n",
       "    .dataframe thead th {\n",
       "        text-align: right;\n",
       "    }\n",
       "</style>\n",
       "<table border=\"1\" class=\"dataframe\">\n",
       "  <thead>\n",
       "    <tr style=\"text-align: right;\">\n",
       "      <th></th>\n",
       "      <th>net</th>\n",
       "      <th>sta</th>\n",
       "      <th>chan</th>\n",
       "      <th>lat</th>\n",
       "      <th>lon</th>\n",
       "      <th>elv</th>\n",
       "      <th>sta0</th>\n",
       "    </tr>\n",
       "  </thead>\n",
       "  <tbody>\n",
       "    <tr>\n",
       "      <th>0</th>\n",
       "      <td>NaN</td>\n",
       "      <td>AGUNI</td>\n",
       "      <td>U</td>\n",
       "      <td>26.5927</td>\n",
       "      <td>127.2403</td>\n",
       "      <td>12.0</td>\n",
       "      <td>AGUNI</td>\n",
       "    </tr>\n",
       "    <tr>\n",
       "      <th>1</th>\n",
       "      <td>NaN</td>\n",
       "      <td>AIDA</td>\n",
       "      <td>U</td>\n",
       "      <td>34.9435</td>\n",
       "      <td>134.1653</td>\n",
       "      <td>170.0</td>\n",
       "      <td>AIDA</td>\n",
       "    </tr>\n",
       "    <tr>\n",
       "      <th>2</th>\n",
       "      <td>NaN</td>\n",
       "      <td>AIOI</td>\n",
       "      <td>U</td>\n",
       "      <td>33.7957</td>\n",
       "      <td>134.4488</td>\n",
       "      <td>165.0</td>\n",
       "      <td>AIOI</td>\n",
       "    </tr>\n",
       "    <tr>\n",
       "      <th>3</th>\n",
       "      <td>NaN</td>\n",
       "      <td>AKAIKE</td>\n",
       "      <td>U</td>\n",
       "      <td>33.7153</td>\n",
       "      <td>130.7928</td>\n",
       "      <td>130.0</td>\n",
       "      <td>AKAIKE</td>\n",
       "    </tr>\n",
       "    <tr>\n",
       "      <th>4</th>\n",
       "      <td>NaN</td>\n",
       "      <td>AKKESH</td>\n",
       "      <td>U</td>\n",
       "      <td>42.9987</td>\n",
       "      <td>144.6925</td>\n",
       "      <td>20.0</td>\n",
       "      <td>AKKESH</td>\n",
       "    </tr>\n",
       "    <tr>\n",
       "      <th>...</th>\n",
       "      <td>...</td>\n",
       "      <td>...</td>\n",
       "      <td>...</td>\n",
       "      <td>...</td>\n",
       "      <td>...</td>\n",
       "      <td>...</td>\n",
       "      <td>...</td>\n",
       "    </tr>\n",
       "    <tr>\n",
       "      <th>257</th>\n",
       "      <td>NaN</td>\n",
       "      <td>YONAGK</td>\n",
       "      <td>U</td>\n",
       "      <td>24.4511</td>\n",
       "      <td>122.9452</td>\n",
       "      <td>15.0</td>\n",
       "      <td>YONAGK</td>\n",
       "    </tr>\n",
       "    <tr>\n",
       "      <th>258</th>\n",
       "      <td>NaN</td>\n",
       "      <td>YONAGU</td>\n",
       "      <td>U</td>\n",
       "      <td>24.4672</td>\n",
       "      <td>123.0113</td>\n",
       "      <td>32.0</td>\n",
       "      <td>YONAGU</td>\n",
       "    </tr>\n",
       "    <tr>\n",
       "      <th>259</th>\n",
       "      <td>NaN</td>\n",
       "      <td>YORONJ</td>\n",
       "      <td>U</td>\n",
       "      <td>27.0246</td>\n",
       "      <td>128.4504</td>\n",
       "      <td>26.0</td>\n",
       "      <td>YORONJ</td>\n",
       "    </tr>\n",
       "    <tr>\n",
       "      <th>260</th>\n",
       "      <td>NaN</td>\n",
       "      <td>YTOYOT</td>\n",
       "      <td>U</td>\n",
       "      <td>34.2658</td>\n",
       "      <td>131.0622</td>\n",
       "      <td>120.0</td>\n",
       "      <td>YTOYOT</td>\n",
       "    </tr>\n",
       "    <tr>\n",
       "      <th>261</th>\n",
       "      <td>NaN</td>\n",
       "      <td>YUWA</td>\n",
       "      <td>U</td>\n",
       "      <td>39.5432</td>\n",
       "      <td>140.2050</td>\n",
       "      <td>30.0</td>\n",
       "      <td>YUWA</td>\n",
       "    </tr>\n",
       "  </tbody>\n",
       "</table>\n",
       "<p>262 rows × 7 columns</p>\n",
       "</div>"
      ],
      "text/plain": [
       "     net     sta chan      lat       lon    elv    sta0\n",
       "0    NaN   AGUNI    U  26.5927  127.2403   12.0   AGUNI\n",
       "1    NaN    AIDA    U  34.9435  134.1653  170.0    AIDA\n",
       "2    NaN    AIOI    U  33.7957  134.4488  165.0    AIOI\n",
       "3    NaN  AKAIKE    U  33.7153  130.7928  130.0  AKAIKE\n",
       "4    NaN  AKKESH    U  42.9987  144.6925   20.0  AKKESH\n",
       "..   ...     ...  ...      ...       ...    ...     ...\n",
       "257  NaN  YONAGK    U  24.4511  122.9452   15.0  YONAGK\n",
       "258  NaN  YONAGU    U  24.4672  123.0113   32.0  YONAGU\n",
       "259  NaN  YORONJ    U  27.0246  128.4504   26.0  YORONJ\n",
       "260  NaN  YTOYOT    U  34.2658  131.0622  120.0  YTOYOT\n",
       "261  NaN    YUWA    U  39.5432  140.2050   30.0    YUWA\n",
       "\n",
       "[262 rows x 7 columns]"
      ]
     },
     "execution_count": 17,
     "metadata": {},
     "output_type": "execute_result"
    }
   ],
   "source": [
    "sta_df"
   ]
  },
  {
   "cell_type": "markdown",
   "id": "21bc205e-afb3-449a-98f6-c138db660fd0",
   "metadata": {},
   "source": [
    "---\n",
    "Use \"add_sta\" option when you want to utilize data from stations without picking information by estimating the P arrival time using TauP."
   ]
  },
  {
   "cell_type": "code",
   "execution_count": 18,
   "id": "8e87bb72-85e2-455f-b1ce-fd8e511e1601",
   "metadata": {},
   "outputs": [],
   "source": [
    "# add empty pick stations\n",
    "if add_sta:\n",
    "    z_files=sorted(glob.glob(wf_dir+'/*/*Z'))\n",
    "    def get_add(z):\n",
    "        id=z.split('/')[-2]\n",
    "        sta=z.split('/')[-1].split('.')[0]\n",
    "        if len(pha_df[(pha_df[fwfid]==id)&(pha_df['sta']==sta)])!=0:\n",
    "            return pd.DataFrame()\n",
    "        if not id in cat_df[fwfid].to_list():\n",
    "            return pd.DataFrame()\n",
    "        return pd.DataFrame({'pick':[id],'sta':[sta],'time':[np.nan],'pha':['P']})\n",
    "    print('# get list of additional stations')\n",
    "    results=parmap.map(get_add,z_files, pm_pbar=True, pm_processes=cores,pm_chunksize=1)\n",
    "    pha_df=pd.concat([pha_df]+results)"
   ]
  },
  {
   "cell_type": "code",
   "execution_count": 19,
   "id": "710ccde1-fbf4-44bb-8d3f-1d401229f254",
   "metadata": {},
   "outputs": [
    {
     "name": "stdout",
     "output_type": "stream",
     "text": [
      "\n",
      "# Arrange metadata\n",
      "- Done\n"
     ]
    }
   ],
   "source": [
    "# Add station metadata to phase df\n",
    "print('\\n# Arrange metadata')\n",
    "pha_df=pha_df[pha_df['sta'].isin(sta_df['sta'].to_list())].reset_index(drop=True)\n",
    "pha_df['lat']=[sta_df[sta_df.sta==i]['lat'].iloc[0] for i in pha_df['sta'].to_list()]\n",
    "pha_df['lon']=[sta_df[sta_df.sta==i]['lon'].iloc[0] for i in pha_df['sta'].to_list()]\n",
    "pha_df['elv']=[sta_df[sta_df.sta==i]['elv'].iloc[0] for i in pha_df['sta'].to_list()]\n",
    "# pha_df['net']=[sta_df[sta_df.sta==i]['net'].iloc[0] for i in pha_df['sta'].to_list()]\n",
    "# pha_df['chan']=[sta_df[sta_df.sta==i]['chan'].iloc[0] for i in pha_df['sta'].to_list()]\n",
    "sta_df['net']='HI' # Renaming, just for consistency\n",
    "\n",
    "# make UTCDateTime objects\n",
    "cat_df[ftime]=[UTCDateTime(i) for i in cat_df[ftime].to_list()]\n",
    "pha_df[fptime]=[UTCDateTime(i) for i in pha_df[fptime].to_list()]\n",
    "print('- Done')"
   ]
  },
  {
   "cell_type": "markdown",
   "id": "1955255b-c181-4f0b-85cb-f6c0a77cac95",
   "metadata": {},
   "source": [
    "---\n",
    "Use the 'change2taup' option when you want to estimate the P arrival time using TauP."
   ]
  },
  {
   "cell_type": "code",
   "execution_count": 20,
   "id": "addd1ff8-08f7-41ca-9faf-b990eb662fb2",
   "metadata": {},
   "outputs": [],
   "source": [
    "# Change to TauP P arrival times (OPTION; considering pick uncertainty)\n",
    "if change2taup:\n",
    "    print('\\n\\n# change to TauP arrival')\n",
    "    pha_df['ptime0']=pha_df[fptime]\n",
    "    results=parmap.map(change2taup,[[idx,val,cat_df[cat_df[fwfid]==val[fwfid]].iloc[0],ftime] for idx,val in pha_df.iterrows()]\n",
    "                       , pm_pbar=True, pm_processes=cores,pm_chunksize=1)\n",
    "    pha_df[fptime]=results\n",
    "    print('- Done')"
   ]
  },
  {
   "cell_type": "markdown",
   "id": "16564561-26a5-4118-8e65-d8265b45e3a9",
   "metadata": {},
   "source": [
    "---\n",
    "The input data (numpy matrix) is generated in 4-second segments from continuous waveform data (SAC or MSEED)."
   ]
  },
  {
   "cell_type": "code",
   "execution_count": 21,
   "id": "08595db2-e0cc-41c7-a204-1e9d587e0c26",
   "metadata": {},
   "outputs": [
    {
     "name": "stdout",
     "output_type": "stream",
     "text": [
      "\n",
      "\n",
      "# Make input matrix from waveform data\n"
     ]
    },
    {
     "name": "stderr",
     "output_type": "stream",
     "text": [
      "100%|██████████████████████████████████████████████████████████████████████████████████████████████████████████████████████████████████████████████████| 106/106 [00:00<00:00, 1068.47it/s]"
     ]
    },
    {
     "name": "stdout",
     "output_type": "stream",
     "text": [
      "% calculation time (min):  0.16\n",
      "- Done\n"
     ]
    },
    {
     "name": "stderr",
     "output_type": "stream",
     "text": [
      "\n"
     ]
    }
   ],
   "source": [
    "# Make input data matrix\n",
    "print('\\n\\n# Make input matrix from waveform data')\n",
    "results=parmap.map(wf2matrix,[[idx,val,fwfid,fptime,wf_dir,out_dir] for idx, val in pha_df.iterrows()], pm_pbar=True, pm_processes=cores,pm_chunksize=1)\n",
    "results=[i for i in results if i is not None]\n",
    "a,b=zip(*results)\n",
    "pha_df=pha_df.iloc[list(a)].reset_index(drop=True)\n",
    "in_mat=np.vstack(b)\n",
    "print('% calculation time (min): ','%.2f'%((time.time()-stime)/60))\n",
    "print('- Done')"
   ]
  },
  {
   "cell_type": "markdown",
   "id": "aa4d6c15-57b2-4e97-ba57-76f6527edbf4",
   "metadata": {},
   "source": [
    "---\n",
    "### 2.3 Polarity prediction (main)"
   ]
  },
  {
   "cell_type": "code",
   "execution_count": 22,
   "id": "ad48ff0c-f2a2-460f-be67-12a9d718a70d",
   "metadata": {},
   "outputs": [
    {
     "name": "stdout",
     "output_type": "stream",
     "text": [
      "\n",
      "\n",
      "# Predict polarity (RPNet)\n",
      "# iterate prediction\n"
     ]
    },
    {
     "name": "stderr",
     "output_type": "stream",
     "text": [
      "100%|████████████████████████████████████████████████████████████████████████████████████████████████████████████████████████████████████████████████████| 100/100 [00:08<00:00, 11.32it/s]"
     ]
    },
    {
     "name": "stdout",
     "output_type": "stream",
     "text": [
      "% calculation time (min):  0.33\n",
      "- Done\n"
     ]
    },
    {
     "name": "stderr",
     "output_type": "stream",
     "text": [
      "\n"
     ]
    }
   ],
   "source": [
    "# RPNet main prediction\n",
    "print('\\n\\n# Predict polarity (RPNet)')\n",
    "r_df=pred_rpnet(model,in_mat,pha_df,batch_size=batch_size,iteration=iteration,gpu_num=gpu_num,time_shift=0.0,mid_point=250)\n",
    "print('% calculation time (min): ','%.2f'%((time.time()-stime)/60))\n",
    "r_df.to_csv(out_dir+'/pol_result.csv',index=False)\n",
    "print('- Done')"
   ]
  },
  {
   "cell_type": "markdown",
   "id": "7eaaca7a-5cc0-42a9-8de5-66184a6897d4",
   "metadata": {},
   "source": [
    "---\n",
    "### 2.4 From RPNet's polarity result to SKHASH input format"
   ]
  },
  {
   "cell_type": "code",
   "execution_count": 23,
   "id": "472c4c79-1000-40a2-a1ea-d3f5a9b18b16",
   "metadata": {},
   "outputs": [
    {
     "name": "stdout",
     "output_type": "stream",
     "text": [
      "% calculation time (min):  0.37\n",
      "\n",
      "\n",
      "@ ALL DONE!\n"
     ]
    }
   ],
   "source": [
    "# Renaming station code (only for Hi-net)\n",
    "sta_df['net']='HI'\n",
    "sta_df['chan']=sta_df['chan'].replace('U','HHZ')\n",
    "sta_df['sta']=['S'+str(i+1).rjust(3,'0') for i in range(len(sta_df))]\n",
    "cat_df=cat_df\n",
    "pha_df=pha_df[pha_df['data_id'].isin(cat_df['data_id'].to_list())].reset_index(drop=True)\n",
    "r_df=pd.read_csv(out_dir+'/pol_result.csv')\n",
    "r_df=r_df[r_df['data_id'].isin(cat_df['data_id'].to_list())].reset_index(drop=True)\n",
    "\n",
    "\n",
    "# Make SKHASH input setting\n",
    "if iteration!=0:\n",
    "    r_df.loc[r_df['std'] > std_threshold, 'predict'] = 'K'\n",
    "if rm_unknwon:\n",
    "    r_df=r_df[r_df['predict']!='K'].reset_index(drop=True)\n",
    "# make threshold for mean\n",
    "if iteration!=0 and mean_threshold!=0:\n",
    "    r_df=r_df[r_df['prob']>=mean_thresuld].reset_index(drop=True)\n",
    "\n",
    "r_df=r_df.drop_duplicates(['sta',fwfid]).reset_index(drop=True)\n",
    "prep_skhash(cat_df=cat_df,pol_df=r_df,sta_df=sta_df,ftime=ftime,fwfid=fwfid,ctrl0=ctrl0,out_dir=out_dir)\n",
    "print('% calculation time (min): ','%.2f'%((time.time()-stime)/60))\n",
    "print('\\n\\n@ ALL DONE!')"
   ]
  },
  {
   "cell_type": "markdown",
   "id": "5be6f9a6-ddc5-47f5-8442-fb02fbab39eb",
   "metadata": {},
   "source": [
    "---\n",
    "## 3. Focal Mechanism Calculation (SKHASH)\n",
    "\n",
    "RPNet does not provide the source code for **SKHASH** directly.<br>\n",
    "Please refer to the link below to download and install SKHASH.<br>\n",
    "\n",
    "[click here for SKHASH](https://code.usgs.gov/esc/SKHASH)\n",
    "\n",
    "However, the RPNet's conda environment is configured to support SKHASH, so you can run the SKHASH.py script within the same RPNet environment without the need for an additional virtual environment setup.\n",
    "\n",
    "Before running the RPNet, properly configure the **control_file0.txt** for SKHASH under **\"ctrl0\"** in hyperparams.py. The default file will be copied to the RPNet result directory, where the necessary settings for running SKHASH will be automatically generated.\n",
    "\n",
    "**Run in terminal:**<br>\n",
    "python SKHASH.py ./output01/hash2/control_file.txt<br>\n",
    "\n",
    "Please check \"./output01/hash2/OUT\" directory after running SKHASH for the focal mechanism result.\n",
    "\n",
    "The MSEED files in the output directory contain the trimmed 4-second waveform segments that were actually used by RPNet for polarity prediction.\n"
   ]
  },
  {
   "cell_type": "markdown",
   "id": "359b7577-52f6-4752-a594-92dc23545d56",
   "metadata": {},
   "source": []
  }
 ],
 "metadata": {
  "kernelspec": {
   "display_name": "Python 3 (ipykernel)",
   "language": "python",
   "name": "python3"
  },
  "language_info": {
   "codemirror_mode": {
    "name": "ipython",
    "version": 3
   },
   "file_extension": ".py",
   "mimetype": "text/x-python",
   "name": "python",
   "nbconvert_exporter": "python",
   "pygments_lexer": "ipython3",
   "version": "3.9.21"
  }
 },
 "nbformat": 4,
 "nbformat_minor": 5
}
